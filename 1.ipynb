{
  "nbformat": 4,
  "nbformat_minor": 0,
  "metadata": {
    "colab": {
      "provenance": [],
      "include_colab_link": true
    },
    "kernelspec": {
      "name": "python3",
      "display_name": "Python 3"
    },
    "language_info": {
      "name": "python"
    }
  },
  "cells": [
    {
      "cell_type": "markdown",
      "metadata": {
        "id": "view-in-github",
        "colab_type": "text"
      },
      "source": [
        "<a href=\"https://colab.research.google.com/github/Morty00933/python/blob/main/1.ipynb\" target=\"_parent\"><img src=\"https://colab.research.google.com/assets/colab-badge.svg\" alt=\"Open In Colab\"/></a>"
      ]
    },
    {
      "cell_type": "markdown",
      "source": [
        "torch.cat() - объединение тензоров вдоль указанной оси."
      ],
      "metadata": {
        "id": "2U2T4mxQm9I1"
      }
    },
    {
      "cell_type": "code",
      "source": [
        "import torch\n",
        "\n",
        "# Создание двух тензоров\n",
        "x = torch.tensor([1, 2, 3])\n",
        "y = torch.tensor([4, 5, 6])\n",
        "\n",
        "# Объединение вдоль оси 0\n",
        "result = torch.cat((x, y))\n",
        "print(result)"
      ],
      "metadata": {
        "colab": {
          "base_uri": "https://localhost:8080/"
        },
        "id": "CLUQskNim993",
        "outputId": "24a4cd4c-e616-4266-e80c-ca904de056b6"
      },
      "execution_count": null,
      "outputs": [
        {
          "output_type": "stream",
          "name": "stdout",
          "text": [
            "tensor([1, 2, 3, 4, 5, 6])\n"
          ]
        }
      ]
    },
    {
      "cell_type": "markdown",
      "source": [
        "torch.gather() - сбор значений из тензора в соответствии с указанными индексами."
      ],
      "metadata": {
        "id": "-M158oV8nM_E"
      }
    },
    {
      "cell_type": "code",
      "source": [
        "# Создание тензора\n",
        "data = torch.tensor([[1, 2], [3, 4]])\n",
        "\n",
        "# Индексы для сбора данных\n",
        "indices = torch.tensor([[0, 1], [1, 0]])\n",
        "\n",
        "# Сбор данных\n",
        "result = torch.gather(data, 1, indices)\n",
        "print(result)"
      ],
      "metadata": {
        "colab": {
          "base_uri": "https://localhost:8080/"
        },
        "id": "GH2DVzOSnQBo",
        "outputId": "88a19445-2ba3-4760-fe60-c0f9ba5ba9f9"
      },
      "execution_count": null,
      "outputs": [
        {
          "output_type": "stream",
          "name": "stdout",
          "text": [
            "tensor([[1, 2],\n",
            "        [4, 3]])\n"
          ]
        }
      ]
    },
    {
      "cell_type": "markdown",
      "source": [
        "torch.index_select() - выбор значений из тензора по указанным индексам."
      ],
      "metadata": {
        "id": "SAdUOAewnRP1"
      }
    },
    {
      "cell_type": "code",
      "source": [
        "# Создание маски\n",
        "mask = result > 2\n",
        "\n",
        "# Выбор значений по маске\n",
        "selected_values = torch.masked_select(result, mask)\n",
        "print(selected_values)"
      ],
      "metadata": {
        "colab": {
          "base_uri": "https://localhost:8080/"
        },
        "id": "xNflVSr4nV_s",
        "outputId": "adc62728-6484-4479-add4-5413a65ee437"
      },
      "execution_count": null,
      "outputs": [
        {
          "output_type": "stream",
          "name": "stdout",
          "text": [
            "tensor([4, 3])\n"
          ]
        }
      ]
    },
    {
      "cell_type": "markdown",
      "source": [
        "torch.narrow() - выбор подтензора с использованием среза."
      ],
      "metadata": {
        "id": "HV1ghs31nY29"
      }
    },
    {
      "cell_type": "code",
      "source": [
        "# Выбор подтензора\n",
        "narrowed = result.narrow(0, 0, 1)\n",
        "print(narrowed)"
      ],
      "metadata": {
        "colab": {
          "base_uri": "https://localhost:8080/"
        },
        "id": "4ajYlHF4nce8",
        "outputId": "bb3b2efa-36f3-4d41-8054-738a583c3351"
      },
      "execution_count": null,
      "outputs": [
        {
          "output_type": "stream",
          "name": "stdout",
          "text": [
            "tensor([[1, 2]])\n"
          ]
        }
      ]
    },
    {
      "cell_type": "markdown",
      "source": [
        "torch.nonzero() - возвращает индексы ненулевых элементов в тензоре."
      ],
      "metadata": {
        "id": "QUMycIHTn2Od"
      }
    },
    {
      "cell_type": "code",
      "source": [
        "# Создание тензора с нулями и ненулевыми элементами\n",
        "tensor = torch.tensor([[0, 1, 0], [2, 0, 3]])\n",
        "\n",
        "# Получение индексов ненулевых элементов\n",
        "nonzero_indices = torch.nonzero(tensor)\n",
        "print(nonzero_indices)"
      ],
      "metadata": {
        "colab": {
          "base_uri": "https://localhost:8080/"
        },
        "id": "0G7HtC-Wn6fe",
        "outputId": "ce3968c9-4674-4eae-b287-3b3a1b863a6e"
      },
      "execution_count": null,
      "outputs": [
        {
          "output_type": "stream",
          "name": "stdout",
          "text": [
            "tensor([[0, 1],\n",
            "        [1, 0],\n",
            "        [1, 2]])\n"
          ]
        }
      ]
    },
    {
      "cell_type": "markdown",
      "source": [
        "torch.reshape() - изменение формы тензора."
      ],
      "metadata": {
        "id": "QtPKWc9znd9e"
      }
    },
    {
      "cell_type": "code",
      "source": [
        "# Изменение формы тензора\n",
        "reshaped = result.view(2, 2)\n",
        "print(reshaped)"
      ],
      "metadata": {
        "colab": {
          "base_uri": "https://localhost:8080/"
        },
        "id": "DBpiXJLfnfPF",
        "outputId": "88a29f4c-e04d-4ca5-fce1-0034f15e6151"
      },
      "execution_count": null,
      "outputs": [
        {
          "output_type": "stream",
          "name": "stdout",
          "text": [
            "tensor([[1, 2],\n",
            "        [4, 3]])\n"
          ]
        }
      ]
    }
  ]
}